{
  "nbformat": 4,
  "nbformat_minor": 0,
  "metadata": {
    "colab": {
      "provenance": [],
      "authorship_tag": "ABX9TyMVEzOhqcHtQUrDgZj5Y+mp",
      "include_colab_link": true
    },
    "kernelspec": {
      "name": "python3",
      "display_name": "Python 3"
    },
    "language_info": {
      "name": "python"
    }
  },
  "cells": [
    {
      "cell_type": "markdown",
      "metadata": {
        "id": "view-in-github",
        "colab_type": "text"
      },
      "source": [
        "<a href=\"https://colab.research.google.com/github/Ahmethan96/pyChatGPT/blob/main/ChatGPT.ipynb\" target=\"_parent\"><img src=\"https://colab.research.google.com/assets/colab-badge.svg\" alt=\"Open In Colab\"/></a>"
      ]
    },
    {
      "cell_type": "code",
      "execution_count": 27,
      "metadata": {
        "colab": {
          "base_uri": "https://localhost:8080/"
        },
        "id": "QX2tTINT-y5O",
        "outputId": "3b86bdb4-83b0-4aa5-abcc-5ab6100639a0"
      },
      "outputs": [
        {
          "output_type": "stream",
          "name": "stdout",
          "text": [
            "Requirement already satisfied: pyChatGPT in /usr/local/lib/python3.10/dist-packages (0.4.3.3)\n",
            "Requirement already satisfied: undetected-chromedriver>=3.2.1 in /usr/local/lib/python3.10/dist-packages (from pyChatGPT) (3.5.0)\n",
            "Requirement already satisfied: markdownify>=0.11.6 in /usr/local/lib/python3.10/dist-packages (from pyChatGPT) (0.11.6)\n",
            "Requirement already satisfied: beautifulsoup4<5,>=4.9 in /usr/local/lib/python3.10/dist-packages (from markdownify>=0.11.6->pyChatGPT) (4.11.2)\n",
            "Requirement already satisfied: six<2,>=1.15 in /usr/local/lib/python3.10/dist-packages (from markdownify>=0.11.6->pyChatGPT) (1.16.0)\n",
            "Requirement already satisfied: selenium>=4.9.0 in /usr/local/lib/python3.10/dist-packages (from undetected-chromedriver>=3.2.1->pyChatGPT) (4.11.2)\n",
            "Requirement already satisfied: requests in /usr/local/lib/python3.10/dist-packages (from undetected-chromedriver>=3.2.1->pyChatGPT) (2.27.1)\n",
            "Requirement already satisfied: websockets in /usr/local/lib/python3.10/dist-packages (from undetected-chromedriver>=3.2.1->pyChatGPT) (11.0.3)\n",
            "Requirement already satisfied: soupsieve>1.2 in /usr/local/lib/python3.10/dist-packages (from beautifulsoup4<5,>=4.9->markdownify>=0.11.6->pyChatGPT) (2.4.1)\n",
            "Requirement already satisfied: urllib3[socks]<3,>=1.26 in /usr/local/lib/python3.10/dist-packages (from selenium>=4.9.0->undetected-chromedriver>=3.2.1->pyChatGPT) (1.26.16)\n",
            "Requirement already satisfied: trio~=0.17 in /usr/local/lib/python3.10/dist-packages (from selenium>=4.9.0->undetected-chromedriver>=3.2.1->pyChatGPT) (0.22.2)\n",
            "Requirement already satisfied: trio-websocket~=0.9 in /usr/local/lib/python3.10/dist-packages (from selenium>=4.9.0->undetected-chromedriver>=3.2.1->pyChatGPT) (0.10.3)\n",
            "Requirement already satisfied: certifi>=2021.10.8 in /usr/local/lib/python3.10/dist-packages (from selenium>=4.9.0->undetected-chromedriver>=3.2.1->pyChatGPT) (2023.7.22)\n",
            "Requirement already satisfied: charset-normalizer~=2.0.0 in /usr/local/lib/python3.10/dist-packages (from requests->undetected-chromedriver>=3.2.1->pyChatGPT) (2.0.12)\n",
            "Requirement already satisfied: idna<4,>=2.5 in /usr/local/lib/python3.10/dist-packages (from requests->undetected-chromedriver>=3.2.1->pyChatGPT) (3.4)\n",
            "Requirement already satisfied: attrs>=20.1.0 in /usr/local/lib/python3.10/dist-packages (from trio~=0.17->selenium>=4.9.0->undetected-chromedriver>=3.2.1->pyChatGPT) (23.1.0)\n",
            "Requirement already satisfied: sortedcontainers in /usr/local/lib/python3.10/dist-packages (from trio~=0.17->selenium>=4.9.0->undetected-chromedriver>=3.2.1->pyChatGPT) (2.4.0)\n",
            "Requirement already satisfied: outcome in /usr/local/lib/python3.10/dist-packages (from trio~=0.17->selenium>=4.9.0->undetected-chromedriver>=3.2.1->pyChatGPT) (1.2.0)\n",
            "Requirement already satisfied: sniffio in /usr/local/lib/python3.10/dist-packages (from trio~=0.17->selenium>=4.9.0->undetected-chromedriver>=3.2.1->pyChatGPT) (1.3.0)\n",
            "Requirement already satisfied: exceptiongroup>=1.0.0rc9 in /usr/local/lib/python3.10/dist-packages (from trio~=0.17->selenium>=4.9.0->undetected-chromedriver>=3.2.1->pyChatGPT) (1.1.2)\n",
            "Requirement already satisfied: wsproto>=0.14 in /usr/local/lib/python3.10/dist-packages (from trio-websocket~=0.9->selenium>=4.9.0->undetected-chromedriver>=3.2.1->pyChatGPT) (1.2.0)\n",
            "Requirement already satisfied: PySocks!=1.5.7,<2.0,>=1.5.6 in /usr/local/lib/python3.10/dist-packages (from urllib3[socks]<3,>=1.26->selenium>=4.9.0->undetected-chromedriver>=3.2.1->pyChatGPT) (1.7.1)\n",
            "Requirement already satisfied: h11<1,>=0.9.0 in /usr/local/lib/python3.10/dist-packages (from wsproto>=0.14->trio-websocket~=0.9->selenium>=4.9.0->undetected-chromedriver>=3.2.1->pyChatGPT) (0.14.0)\n"
          ]
        }
      ],
      "source": [
        "!pip install pyChatGPT"
      ]
    },
    {
      "cell_type": "code",
      "source": [
        "!pip install PyVirtualDisplay"
      ],
      "metadata": {
        "colab": {
          "base_uri": "https://localhost:8080/"
        },
        "id": "RYfUbk3xAgu3",
        "outputId": "1d8e11d1-a768-4acc-9ad3-bae4d1b5f84a"
      },
      "execution_count": 28,
      "outputs": [
        {
          "output_type": "stream",
          "name": "stdout",
          "text": [
            "Requirement already satisfied: PyVirtualDisplay in /usr/local/lib/python3.10/dist-packages (3.0)\n"
          ]
        }
      ]
    },
    {
      "cell_type": "code",
      "source": [
        "!pip install Xvfb"
      ],
      "metadata": {
        "colab": {
          "base_uri": "https://localhost:8080/"
        },
        "id": "MmyiFzo9AscP",
        "outputId": "da9559d2-6735-4d6f-f12d-084c98ced6f0"
      },
      "execution_count": 29,
      "outputs": [
        {
          "output_type": "stream",
          "name": "stdout",
          "text": [
            "\u001b[31mERROR: Could not find a version that satisfies the requirement Xvfb (from versions: none)\u001b[0m\u001b[31m\n",
            "\u001b[0m\u001b[31mERROR: No matching distribution found for Xvfb\u001b[0m\u001b[31m\n",
            "\u001b[0m"
          ]
        }
      ]
    },
    {
      "cell_type": "code",
      "source": [
        "!pip install pyvirtualdisplay\n"
      ],
      "metadata": {
        "colab": {
          "base_uri": "https://localhost:8080/"
        },
        "id": "tN5Eg65UGtyF",
        "outputId": "d3c3d637-25b7-455d-a139-92ca7df88337"
      },
      "execution_count": 30,
      "outputs": [
        {
          "output_type": "stream",
          "name": "stdout",
          "text": [
            "Requirement already satisfied: pyvirtualdisplay in /usr/local/lib/python3.10/dist-packages (3.0)\n"
          ]
        }
      ]
    },
    {
      "cell_type": "code",
      "source": [
        "from pyChatGPT import ChatGPT"
      ],
      "metadata": {
        "id": "_snBGIFL_BmE"
      },
      "execution_count": 31,
      "outputs": []
    },
    {
      "cell_type": "code",
      "source": [
        "session_token = 'eyJhbGciOiJkaXIiLCJlbmMiOiJBMjU2R0NNIn0..J8YWIFEP30Glbnus.Acehw09oULP_5A0n6lkp137-byG7PrP5al7K8oQ8zG9eyaz9xkSJ6oYFRWMoOh6FfPx3Ub1JI6M7aTmqigUw49jQ13RU5wVWn3LWqt76p7P_WrRFUNCvIg7ta_gad5qEgTEMtOSoJU-2H1UGuFyO1nJ0ncowx45DNE2CESTFzsD2CXh3smYriGNPDhM6cGv8KUyiRLUz_5E5CftnFopSBbE5jdW_1T3oKV-3TE-T7-ePX13vfDJPDpqczTYLrdt4rIk7PPeUfXGXTOzvtT2dVJvmfaLgjzpy_f4ic7oLUpfieVRiE_EQjWwpI8qAYD6OHEk8F5epit5LCi9zrbcj5gg_WYZxrVKaxfXsvWrMqwydiydTHwxKwHNLXnekQESNRq3k3vkYgXRH5h1vrJ5ttoDJBeUHsjxiZs5Vww1-K9QECwWOC9vgD5hsUsg5c2EfcEnggwOL9LgKsqoFklFA7cPppjJ52JE_fPYiyVHgROpt34nvy4uEbgpPzxZGvEt_n2nv-FC0yqYFhd7pNqVK0z5g3Stu_5m7C6WaIVHoHn1a988H9TK2T6zs-AV4IF1ycE_nK-l5j_6t9cHSsrco9H_VSZwuPafBr0G6ddmyBU3vRlBM8WvEuho9YMS4w-bxkarNWzGShSM09vAIJeoZiutthftPf_ueGVyjflENaWBUM6gIRDSjpDAI5N-aRArlKHJiTrVqC9nq7DOk7EpUPA_NbQbhL_eGAzX3k9KzlA_U23BmSeAlXHsXrFLlArfnlkJfg-BOnslTacO7KDJ8OCKGtu25qTzLfUfNHvcIbgwvvk_bHhQwDYjVPZpPyyZBKqfPgmC8qMW3PU_N_Fvfz41o3iv0uIt0_a03Hix_Ht5AE9muaUiY6g7TdDD8NmNGdc6MxRDhfSDakPgM5wM6Y9ily1sjpDscukhMCLxtGRcamYz_qtmJWVKRz2okVgzkanGab9EJi4sq_9URkh6M-85lJYjZXyVPB0ePf6qPhmwuBUojgmt3QLCImgz2zkdamZs1VYcZazFV_blT9EvN2j3a2xrnH9ioMwbV-rc1soPk9-fC_xVpBRrjGLQ-Ga5lcSDzfRR06zkNEO-DQ80DhFZhuz8-Q99h4eIFcJN4fPTE--Wkc52XRhE3pF_LZ-eFkXCDND_yX1agFDM3xGU8dx8sf9zwXZay7Rvxg8eefNK10sm69luowL59GmK1L_B0NQKTYXAsrgy84Mnlc_DnWid6XyH6YcBFYzSMfRAe28Cfn6m_1n4fBxjSeO95WKbgrAhQE1GYKgRJIHKsXD-fCP4PX0uMhpoJwHryCttoeQIwnk2_Zg_IMpd32V4Q2eJhr4GB_wQgIpznFj1iMPPr22hohxnTT40jOTXRQSHxwxblaQhY-bjyyD9OkSXwBTMcK8SkqLTGZtX8AwjHdY5l4DA7x1ddxB5z6KpkdbsLfGZR0DefDgQzQhaXiiqmfPxZn5DCCwqxcQYBZFG7YK2Tzgj91ZgVTtEg7B_mFJixfZcHcW0PkfWb-HHXlPo0Ndd-ZGx7m3OjdI1Bjfq2SSTOVeBdMk3MLYO3Z48kfDgg4rnzpJ7fkTu85dbBr5ZY5oPbFeVxQs5TyXgNyC7Mi4wHJAgfEs4lX4uyeeVyxdP6BW0LIMr2Z7oiqWV9N2RoFz8ZtHOQlzDXawzOoFHJUeMM-HUslMOBj5B3NL_NTZn4QMAWAQV0DNnzklYM8Xw66v_U8nWSNn4-2wYOM4EfjvdlA8fypl4SU0kfS1ScXS62PDolEwntHh_E9FtTCVqMH01C3A3VldggfscNtndWuK7sDyd5IONhvoVUD6ZLKCZlBf3Md4IbAELPeXfB-UvQNeTdLuZwxCNq3B-NzNQd2Bo8r6WRgBGFuzwwrm8Py6TXzAeoWRStESB3eXdr_Lqe6ZPhbRicIkPJ4WTCWFpn-vcrfrYU0uu0UKZPNwNiRdJBbMFANjhDXHx2tbcERRVWIwpWBBWqKGxasaY65QsViKxp4wi4oK8t87qE21M8N2fI7eGOHGOENrrZ-6eUiPis9A4QYIAR-jrvnRkmq1z1eQ1oJh63MCT-aFqZOBbShufOjl8XqI9a-_7BBfKUa5k7489oP6dM2Uo9wh91WTTWWucbwh5pyI_b-CeFystqsDQTkWD92WF6P5B4AZ1YtaDajyW7nSPS1-qCyY_HVrGi6297-Jen2xEsf8bpityHYoTsusMa3DP4yrM4EK0xHfq10TAYT_gPXaHAKyJVrjGta6kwMr7AkTraGSa3jnA6EppxS5mi2EPybIZo7kxjuBJjanY4tUgZ58Hu8O9rkM8piHcyp5JrakRN6yGEcoXg9Nue0Mi4nv8XyEjJ1VODyFQ4h038nG-VCOaM3WXjn41B-D5mb_v-uleFw8mh5kSV2PLhdrLoDZvbq5BO9HyEry-CB9pYlm0XcwmWIAADUN9ZEdY3ee8tIbrPpyERZaYl-zgyzhdbNdqbOvmeavvCFT2J1VLySMXN9QlwvyP_0INFthr2CXEund12XDYszSbBqXqhb7K7J6q9go4k76n3R32Dlq94ctYl3LoeW_rmrbn1GdNMd2oevMOxByU4DJ3PnWEkvwc804ox6S13Mkh9YB-tXENJq98lW5XWFct0Q_OsVWcMb2UuHKJ2YcKexXlwqsiz19Bcgq1zQsieM5cWsVBZDqBgvLxiynUPodCdrlf7lf7VpjCXos6nOYX3EFxdYjXiEGwLldQX2i16IauiPw-pCn4A1mnbSHU.YAnIvCyVE3EqiFgXQOVjyw'\n",
        "api = ChatGPT(session_token)"
      ],
      "metadata": {
        "colab": {
          "base_uri": "https://localhost:8080/",
          "height": 478
        },
        "id": "wd1-1tyu_Rhd",
        "outputId": "0d83a746-4926-4fbb-c386-9fe1248180ed"
      },
      "execution_count": 32,
      "outputs": [
        {
          "output_type": "stream",
          "name": "stderr",
          "text": [
            "DEBUG:pyChatGPT:Starting virtual display...\n"
          ]
        },
        {
          "output_type": "error",
          "ename": "ValueError",
          "evalue": "ignored",
          "traceback": [
            "\u001b[0;31m---------------------------------------------------------------------------\u001b[0m",
            "\u001b[0;31mFileNotFoundError\u001b[0m                         Traceback (most recent call last)",
            "\u001b[0;32m/usr/local/lib/python3.10/dist-packages/pyChatGPT/pyChatGPT.py\u001b[0m in \u001b[0;36m__init_browser\u001b[0;34m(self)\u001b[0m\n\u001b[1;32m    162\u001b[0m \u001b[0;34m\u001b[0m\u001b[0m\n\u001b[0;32m--> 163\u001b[0;31m                 \u001b[0mself\u001b[0m\u001b[0;34m.\u001b[0m\u001b[0mdisplay\u001b[0m \u001b[0;34m=\u001b[0m \u001b[0mDisplay\u001b[0m\u001b[0;34m(\u001b[0m\u001b[0;34m)\u001b[0m\u001b[0;34m\u001b[0m\u001b[0;34m\u001b[0m\u001b[0m\n\u001b[0m\u001b[1;32m    164\u001b[0m             \u001b[0;32mexcept\u001b[0m \u001b[0mModuleNotFoundError\u001b[0m\u001b[0;34m:\u001b[0m\u001b[0;34m\u001b[0m\u001b[0;34m\u001b[0m\u001b[0m\n",
            "\u001b[0;32m/usr/local/lib/python3.10/dist-packages/pyvirtualdisplay/display.py\u001b[0m in \u001b[0;36m__init__\u001b[0;34m(self, backend, visible, size, color_depth, bgcolor, use_xauth, retries, extra_args, manage_global_env, **kwargs)\u001b[0m\n\u001b[1;32m     53\u001b[0m \u001b[0;34m\u001b[0m\u001b[0m\n\u001b[0;32m---> 54\u001b[0;31m         self._obj = cls(\n\u001b[0m\u001b[1;32m     55\u001b[0m             \u001b[0msize\u001b[0m\u001b[0;34m=\u001b[0m\u001b[0msize\u001b[0m\u001b[0;34m,\u001b[0m\u001b[0;34m\u001b[0m\u001b[0;34m\u001b[0m\u001b[0m\n",
            "\u001b[0;32m/usr/local/lib/python3.10/dist-packages/pyvirtualdisplay/xvfb.py\u001b[0m in \u001b[0;36m__init__\u001b[0;34m(self, size, color_depth, bgcolor, use_xauth, fbdir, dpi, retries, extra_args, manage_global_env)\u001b[0m\n\u001b[1;32m     43\u001b[0m \u001b[0;34m\u001b[0m\u001b[0m\n\u001b[0;32m---> 44\u001b[0;31m         AbstractDisplay.__init__(\n\u001b[0m\u001b[1;32m     45\u001b[0m             \u001b[0mself\u001b[0m\u001b[0;34m,\u001b[0m\u001b[0;34m\u001b[0m\u001b[0;34m\u001b[0m\u001b[0m\n",
            "\u001b[0;32m/usr/local/lib/python3.10/dist-packages/pyvirtualdisplay/abstractdisplay.py\u001b[0m in \u001b[0;36m__init__\u001b[0;34m(self, program, use_xauth, retries, extra_args, manage_global_env)\u001b[0m\n\u001b[1;32m     84\u001b[0m \u001b[0;34m\u001b[0m\u001b[0m\n\u001b[0;32m---> 85\u001b[0;31m         \u001b[0mhelptext\u001b[0m \u001b[0;34m=\u001b[0m \u001b[0mget_helptext\u001b[0m\u001b[0;34m(\u001b[0m\u001b[0mprogram\u001b[0m\u001b[0;34m)\u001b[0m\u001b[0;34m\u001b[0m\u001b[0;34m\u001b[0m\u001b[0m\n\u001b[0m\u001b[1;32m     86\u001b[0m         \u001b[0mself\u001b[0m\u001b[0;34m.\u001b[0m\u001b[0m_has_displayfd\u001b[0m \u001b[0;34m=\u001b[0m \u001b[0;34m\"-displayfd\"\u001b[0m \u001b[0;32min\u001b[0m \u001b[0mhelptext\u001b[0m\u001b[0;34m\u001b[0m\u001b[0;34m\u001b[0m\u001b[0m\n",
            "\u001b[0;32m/usr/local/lib/python3.10/dist-packages/pyvirtualdisplay/util.py\u001b[0m in \u001b[0;36mget_helptext\u001b[0;34m(program)\u001b[0m\n\u001b[1;32m     12\u001b[0m     \u001b[0;31m# py3.6 also\u001b[0m\u001b[0;34m\u001b[0m\u001b[0;34m\u001b[0m\u001b[0m\n\u001b[0;32m---> 13\u001b[0;31m     p = subprocess.Popen(\n\u001b[0m\u001b[1;32m     14\u001b[0m         \u001b[0mcmd\u001b[0m\u001b[0;34m,\u001b[0m\u001b[0;34m\u001b[0m\u001b[0;34m\u001b[0m\u001b[0m\n",
            "\u001b[0;32m/usr/lib/python3.10/subprocess.py\u001b[0m in \u001b[0;36m__init__\u001b[0;34m(self, args, bufsize, executable, stdin, stdout, stderr, preexec_fn, close_fds, shell, cwd, env, universal_newlines, startupinfo, creationflags, restore_signals, start_new_session, pass_fds, user, group, extra_groups, encoding, errors, text, umask, pipesize)\u001b[0m\n\u001b[1;32m    970\u001b[0m \u001b[0;34m\u001b[0m\u001b[0m\n\u001b[0;32m--> 971\u001b[0;31m             self._execute_child(args, executable, preexec_fn, close_fds,\n\u001b[0m\u001b[1;32m    972\u001b[0m                                 \u001b[0mpass_fds\u001b[0m\u001b[0;34m,\u001b[0m \u001b[0mcwd\u001b[0m\u001b[0;34m,\u001b[0m \u001b[0menv\u001b[0m\u001b[0;34m,\u001b[0m\u001b[0;34m\u001b[0m\u001b[0;34m\u001b[0m\u001b[0m\n",
            "\u001b[0;32m/usr/lib/python3.10/subprocess.py\u001b[0m in \u001b[0;36m_execute_child\u001b[0;34m(self, args, executable, preexec_fn, close_fds, pass_fds, cwd, env, startupinfo, creationflags, shell, p2cread, p2cwrite, c2pread, c2pwrite, errread, errwrite, restore_signals, gid, gids, uid, umask, start_new_session)\u001b[0m\n\u001b[1;32m   1862\u001b[0m                         \u001b[0merr_msg\u001b[0m \u001b[0;34m=\u001b[0m \u001b[0mos\u001b[0m\u001b[0;34m.\u001b[0m\u001b[0mstrerror\u001b[0m\u001b[0;34m(\u001b[0m\u001b[0merrno_num\u001b[0m\u001b[0;34m)\u001b[0m\u001b[0;34m\u001b[0m\u001b[0;34m\u001b[0m\u001b[0m\n\u001b[0;32m-> 1863\u001b[0;31m                     \u001b[0;32mraise\u001b[0m \u001b[0mchild_exception_type\u001b[0m\u001b[0;34m(\u001b[0m\u001b[0merrno_num\u001b[0m\u001b[0;34m,\u001b[0m \u001b[0merr_msg\u001b[0m\u001b[0;34m,\u001b[0m \u001b[0merr_filename\u001b[0m\u001b[0;34m)\u001b[0m\u001b[0;34m\u001b[0m\u001b[0;34m\u001b[0m\u001b[0m\n\u001b[0m\u001b[1;32m   1864\u001b[0m                 \u001b[0;32mraise\u001b[0m \u001b[0mchild_exception_type\u001b[0m\u001b[0;34m(\u001b[0m\u001b[0merr_msg\u001b[0m\u001b[0;34m)\u001b[0m\u001b[0;34m\u001b[0m\u001b[0;34m\u001b[0m\u001b[0m\n",
            "\u001b[0;31mFileNotFoundError\u001b[0m: [Errno 2] No such file or directory: 'Xvfb'",
            "\nDuring handling of the above exception, another exception occurred:\n",
            "\u001b[0;31mValueError\u001b[0m                                Traceback (most recent call last)",
            "\u001b[0;32m<ipython-input-32-c0ca5e49cd7d>\u001b[0m in \u001b[0;36m<cell line: 2>\u001b[0;34m()\u001b[0m\n\u001b[1;32m      1\u001b[0m \u001b[0msession_token\u001b[0m \u001b[0;34m=\u001b[0m \u001b[0;34m'eyJhbGciOiJkaXIiLCJlbmMiOiJBMjU2R0NNIn0..J8YWIFEP30Glbnus.Acehw09oULP_5A0n6lkp137-byG7PrP5al7K8oQ8zG9eyaz9xkSJ6oYFRWMoOh6FfPx3Ub1JI6M7aTmqigUw49jQ13RU5wVWn3LWqt76p7P_WrRFUNCvIg7ta_gad5qEgTEMtOSoJU-2H1UGuFyO1nJ0ncowx45DNE2CESTFzsD2CXh3smYriGNPDhM6cGv8KUyiRLUz_5E5CftnFopSBbE5jdW_1T3oKV-3TE-T7-ePX13vfDJPDpqczTYLrdt4rIk7PPeUfXGXTOzvtT2dVJvmfaLgjzpy_f4ic7oLUpfieVRiE_EQjWwpI8qAYD6OHEk8F5epit5LCi9zrbcj5gg_WYZxrVKaxfXsvWrMqwydiydTHwxKwHNLXnekQESNRq3k3vkYgXRH5h1vrJ5ttoDJBeUHsjxiZs5Vww1-K9QECwWOC9vgD5hsUsg5c2EfcEnggwOL9LgKsqoFklFA7cPppjJ52JE_fPYiyVHgROpt34nvy4uEbgpPzxZGvEt_n2nv-FC0yqYFhd7pNqVK0z5g3Stu_5m7C6WaIVHoHn1a988H9TK2T6zs-AV4IF1ycE_nK-l5j_6t9cHSsrco9H_VSZwuPafBr0G6ddmyBU3vRlBM8WvEuho9YMS4w-bxkarNWzGShSM09vAIJeoZiutthftPf_ueGVyjflENaWBUM6gIRDSjpDAI5N-aRArlKHJiTrVqC9nq7DOk7EpUPA_NbQbhL_eGAzX3k9KzlA_U23BmSeAlXHsXrFLlArfnlkJfg-BOnslTacO7KDJ8OCKGtu25qTzLfUfNHvcIbgwvvk_bHhQwDYjVPZpPyyZBKqfPgmC8qMW3PU_N_Fvfz41o3iv0uIt0_a03Hix_Ht5AE9muaUiY6g7TdDD8NmNGdc6MxRDhfSDakPgM5wM6Y9ily1sjpDscukhMCLxtGRcamYz_qtmJWVKRz2okVgzkanGab9EJi4sq_9URkh6M-85lJYjZXyVPB0ePf6qPhmwuBUojgmt3QLCImgz2zkdamZs1VYcZazFV_blT9EvN2j3a2xrnH9ioMwbV-rc1soPk9-fC_xVpBRrjGLQ-Ga5lcSDzfRR06zkNEO-DQ80DhFZhuz8-Q99h4eIFcJN4fPTE--Wkc52XRhE3pF_LZ-eFkXCDND_yX1agFDM3xGU8dx8sf9zwXZay7Rvxg8eefNK10sm69luowL59GmK1L_B0NQKTYXAsrgy84Mnlc_DnWid6XyH6YcBFYzSMfRAe28Cfn6m_1n4fBxjSeO95WKbgrAhQE1GYKgRJIHKsXD-fCP4PX0uMhpoJwHryCttoeQIwnk2_Zg_IMpd32V4Q2eJhr4GB_wQgIpznFj1iMPPr22hohxnTT40jO...\n\u001b[0;32m----> 2\u001b[0;31m \u001b[0mapi\u001b[0m \u001b[0;34m=\u001b[0m \u001b[0mChatGPT\u001b[0m\u001b[0;34m(\u001b[0m\u001b[0msession_token\u001b[0m\u001b[0;34m)\u001b[0m\u001b[0;34m\u001b[0m\u001b[0;34m\u001b[0m\u001b[0m\n\u001b[0m",
            "\u001b[0;32m/usr/local/lib/python3.10/dist-packages/pyChatGPT/pyChatGPT.py\u001b[0m in \u001b[0;36m__init__\u001b[0;34m(self, session_token, conversation_id, auth_type, email, password, login_cookies_path, captcha_solver, solver_apikey, proxy, chrome_args, moderation, verbose)\u001b[0m\n\u001b[1;32m    124\u001b[0m             \u001b[0mos\u001b[0m\u001b[0;34m.\u001b[0m\u001b[0menviron\u001b[0m\u001b[0;34m[\u001b[0m\u001b[0;34m'PATH'\u001b[0m\u001b[0;34m]\u001b[0m \u001b[0;34m+=\u001b[0m \u001b[0mos\u001b[0m\u001b[0;34m.\u001b[0m\u001b[0mpathsep\u001b[0m \u001b[0;34m+\u001b[0m \u001b[0mffdl\u001b[0m\u001b[0;34m.\u001b[0m\u001b[0mffmpeg_dir\u001b[0m\u001b[0;34m\u001b[0m\u001b[0;34m\u001b[0m\u001b[0m\n\u001b[1;32m    125\u001b[0m \u001b[0;34m\u001b[0m\u001b[0m\n\u001b[0;32m--> 126\u001b[0;31m         \u001b[0mself\u001b[0m\u001b[0;34m.\u001b[0m\u001b[0m__init_browser\u001b[0m\u001b[0;34m(\u001b[0m\u001b[0;34m)\u001b[0m\u001b[0;34m\u001b[0m\u001b[0;34m\u001b[0m\u001b[0m\n\u001b[0m\u001b[1;32m    127\u001b[0m         \u001b[0mweakref\u001b[0m\u001b[0;34m.\u001b[0m\u001b[0mfinalize\u001b[0m\u001b[0;34m(\u001b[0m\u001b[0mself\u001b[0m\u001b[0;34m,\u001b[0m \u001b[0mself\u001b[0m\u001b[0;34m.\u001b[0m\u001b[0m__del__\u001b[0m\u001b[0;34m)\u001b[0m\u001b[0;34m\u001b[0m\u001b[0;34m\u001b[0m\u001b[0m\n\u001b[1;32m    128\u001b[0m \u001b[0;34m\u001b[0m\u001b[0m\n",
            "\u001b[0;32m/usr/local/lib/python3.10/dist-packages/pyChatGPT/pyChatGPT.py\u001b[0m in \u001b[0;36m__init_browser\u001b[0;34m(self)\u001b[0m\n\u001b[1;32m    168\u001b[0m             \u001b[0;32mexcept\u001b[0m \u001b[0mFileNotFoundError\u001b[0m \u001b[0;32mas\u001b[0m \u001b[0me\u001b[0m\u001b[0;34m:\u001b[0m\u001b[0;34m\u001b[0m\u001b[0;34m\u001b[0m\u001b[0m\n\u001b[1;32m    169\u001b[0m                 \u001b[0;32mif\u001b[0m \u001b[0;34m'No such file or directory: \\'Xvfb\\''\u001b[0m \u001b[0;32min\u001b[0m \u001b[0mstr\u001b[0m\u001b[0;34m(\u001b[0m\u001b[0me\u001b[0m\u001b[0;34m)\u001b[0m\u001b[0;34m:\u001b[0m\u001b[0;34m\u001b[0m\u001b[0;34m\u001b[0m\u001b[0m\n\u001b[0;32m--> 170\u001b[0;31m                     raise ValueError(\n\u001b[0m\u001b[1;32m    171\u001b[0m                         \u001b[0;34m'Please install Xvfb to start a virtual display by running `sudo apt install xvfb`'\u001b[0m\u001b[0;34m\u001b[0m\u001b[0;34m\u001b[0m\u001b[0m\n\u001b[1;32m    172\u001b[0m                     )\n",
            "\u001b[0;31mValueError\u001b[0m: Please install Xvfb to start a virtual display by running `sudo apt install xvfb`"
          ]
        }
      ]
    },
    {
      "cell_type": "code",
      "source": [],
      "metadata": {
        "id": "AgIO4_LAAc7K"
      },
      "execution_count": null,
      "outputs": []
    }
  ]
}